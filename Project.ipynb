{
 "cells": [
  {
   "attachments": {},
   "cell_type": "markdown",
   "id": "86f1f219-adad-4fcc-ae01-419bf4db39b2",
   "metadata": {},
   "source": [
    "Parts of Molecule Tagging\n",
    "\n",
    "Moho Goswami"
   ]
  },
  {
   "attachments": {},
   "cell_type": "markdown",
   "id": "9ff25102-e244-4012-b52c-1c8fcc363bc6",
   "metadata": {},
   "source": [
    "#### Project setup\n",
    "The code block below installs (and loads) [Julia](https://julialang.org) packages that we use for the project:"
   ]
  },
  {
   "cell_type": "code",
   "execution_count": null,
   "id": "a65739d4-3907-4161-ad08-915e4dc898a2",
   "metadata": {},
   "outputs": [
    {
     "name": "stderr",
     "output_type": "stream",
     "text": [
      "\u001b[32m\u001b[1m  Activating\u001b[22m\u001b[39m new project at `~/Desktop/julia_work/cheme-1800-project-template-code`\n",
      "\u001b[32m\u001b[1m  No Changes\u001b[22m\u001b[39m to `~/Desktop/julia_work/cheme-1800-project-template-code/Project.toml`\n",
      "\u001b[32m\u001b[1m  No Changes\u001b[22m\u001b[39m to `~/Desktop/julia_work/cheme-1800-project-template-code/Manifest.toml`\n"
     ]
    }
   ],
   "source": [
    "import Pkg; Pkg.activate(\".\"); Pkg.resolve(); Pkg.instantiate();"
   ]
  },
  {
   "cell_type": "code",
   "execution_count": 2,
   "id": "dbd7451a-4808-461a-8aa2-d4be1e5115c0",
   "metadata": {},
   "outputs": [],
   "source": [
    "include(\"Include.jl\")"
   ]
  },
  {
   "attachments": {},
   "cell_type": "markdown",
   "id": "1955f60e-2213-442b-bf3e-8f2a913abde2",
   "metadata": {},
   "source": [
    "### Introduction and Background\n",
    "This project aims to tokenize and analyze chemical formula strings. This will be done through encryption and decryption, building a matrix of the data, and calculating and plotting the maximum growth rates on a graph."
   ]
  },
  {
   "attachments": {},
   "cell_type": "markdown",
   "id": "abc111f4-418c-4ee1-b9fc-a32f0df2e599",
   "metadata": {},
   "source": [
    "### Project goals\n",
    "1) Encrypt and decrypt chemical formula strings\n",
    "2) Build a stoichiometric matrix of the compounds\n",
    "3) Plot the maximum growth rates on a graph"
   ]
  },
  {
   "attachments": {},
   "cell_type": "markdown",
   "id": "8bfee081-468e-4b71-a3a4-084448807222",
   "metadata": {},
   "source": [
    "### Results\n",
    "Project calculation results go here"
   ]
  },
  {
   "attachments": {},
   "cell_type": "markdown",
   "id": "b4ebe803-68c9-46ba-9d6e-3de6f1643087",
   "metadata": {},
   "source": [
    "#### Additional resources\n",
    "List additional resources here"
   ]
  },
  {
   "cell_type": "code",
   "execution_count": null,
   "id": "596080bc-0e87-4ea3-bc7a-8b9479911f79",
   "metadata": {},
   "outputs": [],
   "source": [
    "lab 8d, pset 4, pset 6"
   ]
  },
  {
   "cell_type": "code",
   "execution_count": null,
   "id": "92e6c05f",
   "metadata": {},
   "outputs": [],
   "source": []
  }
 ],
 "metadata": {
  "kernelspec": {
   "display_name": "Julia 1.8.5",
   "language": "julia",
   "name": "julia-1.8"
  },
  "language_info": {
   "file_extension": ".jl",
   "mimetype": "application/julia",
   "name": "julia",
   "version": "1.8.5"
  }
 },
 "nbformat": 4,
 "nbformat_minor": 5
}
